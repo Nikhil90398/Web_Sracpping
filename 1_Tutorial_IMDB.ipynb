{
  "nbformat": 4,
  "nbformat_minor": 0,
  "metadata": {
    "colab": {
      "name": "1- Tutorial-IMDB.ipynb",
      "provenance": [],
      "authorship_tag": "ABX9TyOdVFSn/WChzN50NoVHkgPe",
      "include_colab_link": true
    },
    "kernelspec": {
      "name": "python3",
      "display_name": "Python 3"
    },
    "language_info": {
      "name": "python"
    }
  },
  "cells": [
    {
      "cell_type": "markdown",
      "metadata": {
        "id": "view-in-github",
        "colab_type": "text"
      },
      "source": [
        "<a href=\"https://colab.research.google.com/github/Nikhil90398/Web_Sracpping/blob/main/1_Tutorial_IMDB.ipynb\" target=\"_parent\"><img src=\"https://colab.research.google.com/assets/colab-badge.svg\" alt=\"Open In Colab\"/></a>"
      ]
    },
    {
      "cell_type": "code",
      "execution_count": null,
      "metadata": {
        "id": "AGlipV_0taqn"
      },
      "outputs": [],
      "source": [
        "import requests\n",
        "from bs4 import BeautifulSoup"
      ]
    },
    {
      "cell_type": "markdown",
      "source": [
        "# lets create a excel file to load data\n"
      ],
      "metadata": {
        "id": "h56aTTNM5G8H"
      }
    },
    {
      "cell_type": "code",
      "source": [
        "import openpyxl"
      ],
      "metadata": {
        "id": "9SxHxTNv5L65"
      },
      "execution_count": null,
      "outputs": []
    },
    {
      "cell_type": "code",
      "source": [
        ""
      ],
      "metadata": {
        "id": "BpvvNkjr5QKs"
      },
      "execution_count": null,
      "outputs": []
    },
    {
      "cell_type": "code",
      "source": [
        "try:\n",
        "    source = requests.get('https://www.imdb.com/chart/top/')\n",
        "    #find error in source if any\n",
        "    source.raise_for_status()\n",
        "\n",
        "    soup = BeautifulSoup(source.text,\"html.parser\")\n",
        "except Exception as e:\n",
        "    print (e)  "
      ],
      "metadata": {
        "id": "AmAr-Dn9teIL"
      },
      "execution_count": null,
      "outputs": []
    },
    {
      "cell_type": "markdown",
      "source": [
        "* let's see what does raise_for_Status() do"
      ],
      "metadata": {
        "id": "JmcOdAEbuuvK"
      }
    },
    {
      "cell_type": "code",
      "source": [
        "#source = requests.get('https://www.imdb.com/chart/top1314564/')\n",
        "#find error in source if any\n",
        "#source.raise_for_status()"
      ],
      "metadata": {
        "id": "ERwS2oRTuAJs"
      },
      "execution_count": null,
      "outputs": []
    },
    {
      "cell_type": "code",
      "source": [
        "soup = BeautifulSoup(source.text,\"html.parser\")\n",
        "print(soup.prettify())"
      ],
      "metadata": {
        "id": "TsEhkfSzuma1"
      },
      "execution_count": null,
      "outputs": []
    },
    {
      "cell_type": "code",
      "source": [
        "movies= soup.find('tbody', class_=\"lister-list\")\n",
        "print(movies)"
      ],
      "metadata": {
        "id": "415cC6i1v20s"
      },
      "execution_count": null,
      "outputs": []
    },
    {
      "cell_type": "code",
      "source": [
        "movies1= soup.find('tbody', class_=\"lister-list\").find_all('tr')\n",
        "#lets check that it contains 250 movies or not for that we used len() function\n",
        "print(len(movies1))"
      ],
      "metadata": {
        "colab": {
          "base_uri": "https://localhost:8080/"
        },
        "id": "WcTjrsc2yG4B",
        "outputId": "552f1c3f-d4b8-4a50-c14d-801c24766f73"
      },
      "execution_count": null,
      "outputs": [
        {
          "output_type": "stream",
          "name": "stdout",
          "text": [
            "250\n"
          ]
        }
      ]
    },
    {
      "cell_type": "markdown",
      "source": [
        "# for movie name"
      ],
      "metadata": {
        "id": "bboJTOOW08r7"
      }
    },
    {
      "cell_type": "code",
      "source": [
        "for movie in movies1:\n",
        "  print(movie)\n",
        "  break\n",
        "  # lets check it for only one movie."
      ],
      "metadata": {
        "id": "VTzAyCv9yv8R"
      },
      "execution_count": null,
      "outputs": []
    },
    {
      "cell_type": "code",
      "source": [
        "for movie in movies1:\n",
        "  name=movie.find('td',class_='titleColumn')\n",
        "  print(name)\n"
      ],
      "metadata": {
        "id": "7FCEXro2zVJw"
      },
      "execution_count": null,
      "outputs": []
    },
    {
      "cell_type": "code",
      "source": [
        "for movie in movies1:\n",
        "  name=movie.find('td',class_='titleColumn').a\n",
        "  print(name)"
      ],
      "metadata": {
        "id": "yIgeJi5cz444"
      },
      "execution_count": null,
      "outputs": []
    },
    {
      "cell_type": "code",
      "source": [
        "for movie in movies1:\n",
        "  name=movie.find('td',class_='titleColumn').a.text\n",
        "  print(name)"
      ],
      "metadata": {
        "id": "UrAER_mnz6pW"
      },
      "execution_count": null,
      "outputs": []
    },
    {
      "cell_type": "markdown",
      "source": [
        "#for rank of movie"
      ],
      "metadata": {
        "id": "y-a_jCjv1DkD"
      }
    },
    {
      "cell_type": "code",
      "source": [
        "for movie in movies1:\n",
        "  rank=movie.find('td',class_='titleColumn').text\n",
        "  print(rank)"
      ],
      "metadata": {
        "id": "In7hmN140urC"
      },
      "execution_count": null,
      "outputs": []
    },
    {
      "cell_type": "code",
      "source": [
        "for movie in movies1:\n",
        "  rank=movie.find('td',class_='titleColumn').get_text(strip=True)\n",
        "  print(rank)"
      ],
      "metadata": {
        "id": "WiqjIGTv12JL"
      },
      "execution_count": null,
      "outputs": []
    },
    {
      "cell_type": "code",
      "source": [
        "for movie in movies1:\n",
        "  rank=movie.find('td',class_='titleColumn').get_text(strip=True).split(\".\")\n",
        "  print(rank)"
      ],
      "metadata": {
        "id": "V5vw20Ok2AxX"
      },
      "execution_count": null,
      "outputs": []
    },
    {
      "cell_type": "code",
      "source": [
        "for movie in movies1:\n",
        "  rank=movie.find('td',class_='titleColumn').get_text(strip=True).split(\".\")[0]\n",
        "  print(rank)"
      ],
      "metadata": {
        "id": "ZIFThf302Nmy"
      },
      "execution_count": null,
      "outputs": []
    },
    {
      "cell_type": "markdown",
      "source": [
        "# For year"
      ],
      "metadata": {
        "id": "w4GBO-A71qCz"
      }
    },
    {
      "cell_type": "code",
      "source": [
        "for movie in movies1:\n",
        "  year=movie.find('td',class_='titleColumn').span.text\n",
        "  print(year)"
      ],
      "metadata": {
        "id": "x5qiXP_V1cEz"
      },
      "execution_count": null,
      "outputs": []
    },
    {
      "cell_type": "code",
      "source": [
        "for movie in movies1:\n",
        "  year=movie.find('td',class_='titleColumn').span.text.strip(\"()\")\n",
        "  print(year)"
      ],
      "metadata": {
        "id": "HqbBpWs_2d0w"
      },
      "execution_count": null,
      "outputs": []
    },
    {
      "cell_type": "markdown",
      "source": [
        "#Imdb Rating"
      ],
      "metadata": {
        "id": "u1UTblp423xi"
      }
    },
    {
      "cell_type": "code",
      "source": [
        "ratingColumn imdbRating"
      ],
      "metadata": {
        "id": "KeTJinfE3GcI"
      },
      "execution_count": null,
      "outputs": []
    },
    {
      "cell_type": "code",
      "source": [
        "for movie in movies1:\n",
        "  rating=movie.find('td',class_='ratingColumn imdbRating').strong.text\n",
        "  print(rating)"
      ],
      "metadata": {
        "id": "Bl2bBWPH20ZJ"
      },
      "execution_count": null,
      "outputs": []
    },
    {
      "cell_type": "markdown",
      "source": [
        "now print all\n"
      ],
      "metadata": {
        "id": "9Jd5zqg03XwD"
      }
    },
    {
      "cell_type": "code",
      "source": [
        "# scrapping top 250 movies data from imdb website\n",
        "movies= soup.find('tbody', class_=\"lister-list\").find_all('tr')\n",
        "\n",
        "for movie in movies:\n",
        "  name=movie.find('td',class_='titleColumn').a.text\n",
        "  rank=movie.find('td',class_='titleColumn').get_text(strip=True).split(\".\")[0]\n",
        "  year=movie.find('td',class_='titleColumn').span.text.strip(\"()\")\n",
        "  rating=movie.find('td',class_='ratingColumn imdbRating').strong.text\n",
        "  print(rank,name,year,rating)  "
      ],
      "metadata": {
        "id": "ghmyZHFl3NSY"
      },
      "execution_count": null,
      "outputs": []
    },
    {
      "cell_type": "markdown",
      "source": [
        "# lets create a excel file to load data\n"
      ],
      "metadata": {
        "id": "BHfNlT4d5dhJ"
      }
    },
    {
      "cell_type": "code",
      "source": [
        "import openpyxl"
      ],
      "metadata": {
        "id": "58czRxxa3ee4"
      },
      "execution_count": null,
      "outputs": []
    },
    {
      "cell_type": "code",
      "source": [
        "excel= openpyxl.Workbook()\n",
        "print(excel.sheetnames)"
      ],
      "metadata": {
        "colab": {
          "base_uri": "https://localhost:8080/"
        },
        "id": "2rAcZsiC5hUo",
        "outputId": "2f0b27e5-b37e-4afc-ad41-6aad2d4667d9"
      },
      "execution_count": null,
      "outputs": [
        {
          "output_type": "stream",
          "name": "stdout",
          "text": [
            "['Sheet']\n"
          ]
        }
      ]
    },
    {
      "cell_type": "code",
      "source": [
        "excel= openpyxl.Workbook()\n",
        "sheet=excel.active\n",
        "sheet.title = \"top Rated Movies\"\n",
        "print(excel.sheetnames)"
      ],
      "metadata": {
        "colab": {
          "base_uri": "https://localhost:8080/"
        },
        "id": "pbgJzeyJ5p_w",
        "outputId": "7281a3fc-d1ae-4d44-fe8e-923a24f51da0"
      },
      "execution_count": null,
      "outputs": [
        {
          "output_type": "stream",
          "name": "stdout",
          "text": [
            "['top Rated Movies']\n"
          ]
        }
      ]
    },
    {
      "cell_type": "code",
      "source": [
        "excel= openpyxl.Workbook()\n",
        "sheet=excel.active\n",
        "sheet.title = \"top Rated Movies\"\n",
        "sheet.append(['Movie Rank','Movie Name','Year of release','IMDB Rating'])\n",
        "print(excel.sheetnames)"
      ],
      "metadata": {
        "colab": {
          "base_uri": "https://localhost:8080/"
        },
        "id": "MeMD5jsw6Miy",
        "outputId": "67a9985b-6399-4b38-d493-0d14988d4f69"
      },
      "execution_count": null,
      "outputs": [
        {
          "output_type": "stream",
          "name": "stdout",
          "text": [
            "['top Rated Movies']\n"
          ]
        }
      ]
    },
    {
      "cell_type": "markdown",
      "source": [
        "#final program"
      ],
      "metadata": {
        "id": "xDs6gxaA6r9Q"
      }
    },
    {
      "cell_type": "code",
      "source": [
        "import openpyxl\n",
        "\n",
        "excel= openpyxl.Workbook()\n",
        "sheet=excel.active\n",
        "sheet.title = \"top Rated Movies\"\n",
        "sheet.append(['Movie Rank','Movie Name','Year of release','IMDB Rating'])\n",
        "print(excel.sheetnames)\n",
        "\n",
        "try:\n",
        "    source = requests.get('https://www.imdb.com/chart/top/')\n",
        "    #find error in source if any\n",
        "    source.raise_for_status()\n",
        "\n",
        "    soup = BeautifulSoup(source.text,\"html.parser\")\n",
        "    movies= soup.find('tbody', class_=\"lister-list\").find_all('tr')\n",
        "\n",
        "    for movie in movies:\n",
        "          name=movie.find('td',class_='titleColumn').a.text\n",
        "          rank=movie.find('td',class_='titleColumn').get_text(strip=True).split(\".\")[0]\n",
        "          year=movie.find('td',class_='titleColumn').span.text.strip(\"()\")\n",
        "          rating=movie.find('td',class_='ratingColumn imdbRating').strong.text\n",
        "          print(rank,name,year,rating)  \n",
        "          sheet.append([rank,name,year,rating])\n",
        "\n",
        "except Exception as e:\n",
        "    print (e)  \n",
        "excel.save(\"IMDB Movie Rating.xlsx\")    "
      ],
      "metadata": {
        "id": "3ix6AtZX6rQ8"
      },
      "execution_count": null,
      "outputs": []
    },
    {
      "cell_type": "code",
      "source": [
        ""
      ],
      "metadata": {
        "id": "cUoav5Vj6j_q"
      },
      "execution_count": null,
      "outputs": []
    }
  ]
}